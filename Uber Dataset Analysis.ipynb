{
 "cells": [
  {
   "cell_type": "code",
   "execution_count": 1,
   "id": "e2bfbe67",
   "metadata": {},
   "outputs": [],
   "source": [
    "#Importing libraries\n",
    "import pandas as pd\n",
    "import numpy as np\n",
    "import matplotlib.pyplot as plt\n",
    "import seaborn as sns"
   ]
  },
  {
   "cell_type": "markdown",
   "id": "39ba9af2",
   "metadata": {},
   "source": [
    "## Importing Dataset"
   ]
  },
  {
   "cell_type": "code",
   "execution_count": 2,
   "id": "2259d276",
   "metadata": {},
   "outputs": [],
   "source": [
    "rides = pd.read_csv(\"D:\\\\Uber Data Analysis Project\\\\trips_data.csv\")"
   ]
  },
  {
   "cell_type": "markdown",
   "id": "994df925",
   "metadata": {},
   "source": [
    "## Dataset Information"
   ]
  },
  {
   "cell_type": "code",
   "execution_count": 3,
   "id": "61d06e21",
   "metadata": {
    "scrolled": true
   },
   "outputs": [
    {
     "data": {
      "text/html": [
       "<div>\n",
       "<style scoped>\n",
       "    .dataframe tbody tr th:only-of-type {\n",
       "        vertical-align: middle;\n",
       "    }\n",
       "\n",
       "    .dataframe tbody tr th {\n",
       "        vertical-align: top;\n",
       "    }\n",
       "\n",
       "    .dataframe thead th {\n",
       "        text-align: right;\n",
       "    }\n",
       "</style>\n",
       "<table border=\"1\" class=\"dataframe\">\n",
       "  <thead>\n",
       "    <tr style=\"text-align: right;\">\n",
       "      <th></th>\n",
       "      <th>City</th>\n",
       "      <th>Product Type</th>\n",
       "      <th>Trip or Order Status</th>\n",
       "      <th>Request Time</th>\n",
       "      <th>Begin Trip Time</th>\n",
       "      <th>Begin Trip Lat</th>\n",
       "      <th>Begin Trip Lng</th>\n",
       "      <th>Dropoff Time</th>\n",
       "      <th>Dropoff Lat</th>\n",
       "      <th>Dropoff Lng</th>\n",
       "      <th>Distance (miles)</th>\n",
       "      <th>Fare Amount</th>\n",
       "      <th>Fare Currency</th>\n",
       "    </tr>\n",
       "  </thead>\n",
       "  <tbody>\n",
       "    <tr>\n",
       "      <th>0</th>\n",
       "      <td>458</td>\n",
       "      <td>Black</td>\n",
       "      <td>COMPLETED</td>\n",
       "      <td>2021-01-13 22:06:46 +0000 UTC</td>\n",
       "      <td>2021-01-13 22:11:10 +0000 UTC</td>\n",
       "      <td>-23.599752</td>\n",
       "      <td>-46.715954</td>\n",
       "      <td>2021-01-13 22:29:13 +0000 UTC</td>\n",
       "      <td>-23.559359</td>\n",
       "      <td>-46.666542</td>\n",
       "      <td>4.84</td>\n",
       "      <td>29.63</td>\n",
       "      <td>BRL</td>\n",
       "    </tr>\n",
       "    <tr>\n",
       "      <th>1</th>\n",
       "      <td>458</td>\n",
       "      <td>VIP</td>\n",
       "      <td>COMPLETED</td>\n",
       "      <td>2021-01-13 20:21:05 +0000 UTC</td>\n",
       "      <td>2021-01-13 20:27:29 +0000 UTC</td>\n",
       "      <td>-23.559298</td>\n",
       "      <td>-46.666454</td>\n",
       "      <td>2021-01-13 20:54:50 +0000 UTC</td>\n",
       "      <td>-23.599585</td>\n",
       "      <td>-46.715717</td>\n",
       "      <td>5.31</td>\n",
       "      <td>20.86</td>\n",
       "      <td>BRL</td>\n",
       "    </tr>\n",
       "    <tr>\n",
       "      <th>2</th>\n",
       "      <td>458</td>\n",
       "      <td>VIP</td>\n",
       "      <td>COMPLETED</td>\n",
       "      <td>2021-01-03 00:23:22 +0000 UTC</td>\n",
       "      <td>2021-01-03 00:33:00 +0000 UTC</td>\n",
       "      <td>-23.626593</td>\n",
       "      <td>-46.659410</td>\n",
       "      <td>2021-01-03 00:50:56 +0000 UTC</td>\n",
       "      <td>-23.559273</td>\n",
       "      <td>-46.666595</td>\n",
       "      <td>5.90</td>\n",
       "      <td>34.23</td>\n",
       "      <td>BRL</td>\n",
       "    </tr>\n",
       "    <tr>\n",
       "      <th>3</th>\n",
       "      <td>458</td>\n",
       "      <td>VIP</td>\n",
       "      <td>COMPLETED</td>\n",
       "      <td>2020-12-11 23:16:33 +0000 UTC</td>\n",
       "      <td>2020-12-11 23:27:32 +0000 UTC</td>\n",
       "      <td>-23.559410</td>\n",
       "      <td>-46.666435</td>\n",
       "      <td>2020-12-12 00:32:47 +0000 UTC</td>\n",
       "      <td>-23.425755</td>\n",
       "      <td>-46.481190</td>\n",
       "      <td>19.74</td>\n",
       "      <td>58.77</td>\n",
       "      <td>BRL</td>\n",
       "    </tr>\n",
       "    <tr>\n",
       "      <th>4</th>\n",
       "      <td>458</td>\n",
       "      <td>VIP</td>\n",
       "      <td>COMPLETED</td>\n",
       "      <td>2020-12-11 00:35:46 +0000 UTC</td>\n",
       "      <td>2020-12-11 00:46:46 +0000 UTC</td>\n",
       "      <td>-23.584846</td>\n",
       "      <td>-46.663590</td>\n",
       "      <td>2020-12-11 00:57:57 +0000 UTC</td>\n",
       "      <td>-23.559261</td>\n",
       "      <td>-46.666510</td>\n",
       "      <td>2.54</td>\n",
       "      <td>12.63</td>\n",
       "      <td>BRL</td>\n",
       "    </tr>\n",
       "    <tr>\n",
       "      <th>5</th>\n",
       "      <td>458</td>\n",
       "      <td>VIP</td>\n",
       "      <td>COMPLETED</td>\n",
       "      <td>2020-12-10 11:42:15 +0000 UTC</td>\n",
       "      <td>2020-12-10 11:46:20 +0000 UTC</td>\n",
       "      <td>-23.559372</td>\n",
       "      <td>-46.666473</td>\n",
       "      <td>2020-12-10 12:06:15 +0000 UTC</td>\n",
       "      <td>-23.624500</td>\n",
       "      <td>-46.701077</td>\n",
       "      <td>6.17</td>\n",
       "      <td>21.25</td>\n",
       "      <td>BRL</td>\n",
       "    </tr>\n",
       "    <tr>\n",
       "      <th>6</th>\n",
       "      <td>458</td>\n",
       "      <td>Black</td>\n",
       "      <td>COMPLETED</td>\n",
       "      <td>2020-12-10 01:34:25 +0000 UTC</td>\n",
       "      <td>2020-12-10 01:42:28 +0000 UTC</td>\n",
       "      <td>-23.624605</td>\n",
       "      <td>-46.700980</td>\n",
       "      <td>2020-12-10 02:01:57 +0000 UTC</td>\n",
       "      <td>-23.559233</td>\n",
       "      <td>-46.666546</td>\n",
       "      <td>5.60</td>\n",
       "      <td>36.00</td>\n",
       "      <td>BRL</td>\n",
       "    </tr>\n",
       "    <tr>\n",
       "      <th>7</th>\n",
       "      <td>458</td>\n",
       "      <td>UberX</td>\n",
       "      <td>COMPLETED</td>\n",
       "      <td>2020-12-07 23:48:41 +0000 UTC</td>\n",
       "      <td>2020-12-07 23:57:30 +0000 UTC</td>\n",
       "      <td>-23.627161</td>\n",
       "      <td>-46.664190</td>\n",
       "      <td>2020-12-08 00:18:11 +0000 UTC</td>\n",
       "      <td>-23.559366</td>\n",
       "      <td>-46.666637</td>\n",
       "      <td>6.71</td>\n",
       "      <td>33.22</td>\n",
       "      <td>BRL</td>\n",
       "    </tr>\n",
       "    <tr>\n",
       "      <th>8</th>\n",
       "      <td>458</td>\n",
       "      <td>VIP</td>\n",
       "      <td>CANCELED</td>\n",
       "      <td>2020-12-04 22:11:42 +0000 UTC</td>\n",
       "      <td>1970-01-01 00:00:00 +0000 UTC</td>\n",
       "      <td>-23.545380</td>\n",
       "      <td>-46.648098</td>\n",
       "      <td>1970-01-01 00:00:00 +0000 UTC</td>\n",
       "      <td>-23.552162</td>\n",
       "      <td>-46.636454</td>\n",
       "      <td>0.00</td>\n",
       "      <td>0.00</td>\n",
       "      <td>BRL</td>\n",
       "    </tr>\n",
       "    <tr>\n",
       "      <th>9</th>\n",
       "      <td>458</td>\n",
       "      <td>UberX</td>\n",
       "      <td>COMPLETED</td>\n",
       "      <td>2020-12-04 21:48:04 +0000 UTC</td>\n",
       "      <td>2020-12-04 21:56:13 +0000 UTC</td>\n",
       "      <td>-23.559399</td>\n",
       "      <td>-46.666470</td>\n",
       "      <td>2020-12-04 22:05:42 +0000 UTC</td>\n",
       "      <td>-23.547750</td>\n",
       "      <td>-46.644104</td>\n",
       "      <td>1.83</td>\n",
       "      <td>11.52</td>\n",
       "      <td>BRL</td>\n",
       "    </tr>\n",
       "  </tbody>\n",
       "</table>\n",
       "</div>"
      ],
      "text/plain": [
       "   City Product Type Trip or Order Status                   Request Time  \\\n",
       "0   458        Black            COMPLETED  2021-01-13 22:06:46 +0000 UTC   \n",
       "1   458          VIP            COMPLETED  2021-01-13 20:21:05 +0000 UTC   \n",
       "2   458          VIP            COMPLETED  2021-01-03 00:23:22 +0000 UTC   \n",
       "3   458          VIP            COMPLETED  2020-12-11 23:16:33 +0000 UTC   \n",
       "4   458          VIP            COMPLETED  2020-12-11 00:35:46 +0000 UTC   \n",
       "5   458          VIP            COMPLETED  2020-12-10 11:42:15 +0000 UTC   \n",
       "6   458        Black            COMPLETED  2020-12-10 01:34:25 +0000 UTC   \n",
       "7   458        UberX            COMPLETED  2020-12-07 23:48:41 +0000 UTC   \n",
       "8   458          VIP             CANCELED  2020-12-04 22:11:42 +0000 UTC   \n",
       "9   458        UberX            COMPLETED  2020-12-04 21:48:04 +0000 UTC   \n",
       "\n",
       "                 Begin Trip Time  Begin Trip Lat  Begin Trip Lng  \\\n",
       "0  2021-01-13 22:11:10 +0000 UTC      -23.599752      -46.715954   \n",
       "1  2021-01-13 20:27:29 +0000 UTC      -23.559298      -46.666454   \n",
       "2  2021-01-03 00:33:00 +0000 UTC      -23.626593      -46.659410   \n",
       "3  2020-12-11 23:27:32 +0000 UTC      -23.559410      -46.666435   \n",
       "4  2020-12-11 00:46:46 +0000 UTC      -23.584846      -46.663590   \n",
       "5  2020-12-10 11:46:20 +0000 UTC      -23.559372      -46.666473   \n",
       "6  2020-12-10 01:42:28 +0000 UTC      -23.624605      -46.700980   \n",
       "7  2020-12-07 23:57:30 +0000 UTC      -23.627161      -46.664190   \n",
       "8  1970-01-01 00:00:00 +0000 UTC      -23.545380      -46.648098   \n",
       "9  2020-12-04 21:56:13 +0000 UTC      -23.559399      -46.666470   \n",
       "\n",
       "                    Dropoff Time  Dropoff Lat  Dropoff Lng  Distance (miles)  \\\n",
       "0  2021-01-13 22:29:13 +0000 UTC   -23.559359   -46.666542              4.84   \n",
       "1  2021-01-13 20:54:50 +0000 UTC   -23.599585   -46.715717              5.31   \n",
       "2  2021-01-03 00:50:56 +0000 UTC   -23.559273   -46.666595              5.90   \n",
       "3  2020-12-12 00:32:47 +0000 UTC   -23.425755   -46.481190             19.74   \n",
       "4  2020-12-11 00:57:57 +0000 UTC   -23.559261   -46.666510              2.54   \n",
       "5  2020-12-10 12:06:15 +0000 UTC   -23.624500   -46.701077              6.17   \n",
       "6  2020-12-10 02:01:57 +0000 UTC   -23.559233   -46.666546              5.60   \n",
       "7  2020-12-08 00:18:11 +0000 UTC   -23.559366   -46.666637              6.71   \n",
       "8  1970-01-01 00:00:00 +0000 UTC   -23.552162   -46.636454              0.00   \n",
       "9  2020-12-04 22:05:42 +0000 UTC   -23.547750   -46.644104              1.83   \n",
       "\n",
       "   Fare Amount Fare Currency  \n",
       "0        29.63           BRL  \n",
       "1        20.86           BRL  \n",
       "2        34.23           BRL  \n",
       "3        58.77           BRL  \n",
       "4        12.63           BRL  \n",
       "5        21.25           BRL  \n",
       "6        36.00           BRL  \n",
       "7        33.22           BRL  \n",
       "8         0.00           BRL  \n",
       "9        11.52           BRL  "
      ]
     },
     "execution_count": 3,
     "metadata": {},
     "output_type": "execute_result"
    }
   ],
   "source": [
    "rides.head(10)"
   ]
  },
  {
   "cell_type": "code",
   "execution_count": 4,
   "id": "7a82b55f",
   "metadata": {
    "scrolled": false
   },
   "outputs": [
    {
     "name": "stdout",
     "output_type": "stream",
     "text": [
      "<class 'pandas.core.frame.DataFrame'>\n",
      "RangeIndex: 554 entries, 0 to 553\n",
      "Data columns (total 13 columns):\n",
      " #   Column                Non-Null Count  Dtype  \n",
      "---  ------                --------------  -----  \n",
      " 0   City                  554 non-null    int64  \n",
      " 1   Product Type          551 non-null    object \n",
      " 2   Trip or Order Status  554 non-null    object \n",
      " 3   Request Time          554 non-null    object \n",
      " 4   Begin Trip Time       554 non-null    object \n",
      " 5   Begin Trip Lat        525 non-null    float64\n",
      " 6   Begin Trip Lng        525 non-null    float64\n",
      " 7   Dropoff Time          554 non-null    object \n",
      " 8   Dropoff Lat           525 non-null    float64\n",
      " 9   Dropoff Lng           525 non-null    float64\n",
      " 10  Distance (miles)      554 non-null    float64\n",
      " 11  Fare Amount           554 non-null    float64\n",
      " 12  Fare Currency         551 non-null    object \n",
      "dtypes: float64(6), int64(1), object(6)\n",
      "memory usage: 43.3+ KB\n"
     ]
    }
   ],
   "source": [
    "rides.info()"
   ]
  },
  {
   "cell_type": "code",
   "execution_count": 5,
   "id": "dd0906f7",
   "metadata": {
    "scrolled": true
   },
   "outputs": [
    {
     "name": "stdout",
     "output_type": "stream",
     "text": [
      "                  count  mean   std  min  25%   50%   75%   max\n",
      "Distance (miles)  544.0   4.1   3.8  0.0  1.2   3.4   6.0  19.7\n",
      "Fare Amount       544.0  15.8  11.6  0.0  7.8  14.4  24.3  58.8\n"
     ]
    },
    {
     "data": {
      "image/png": "[encoded data removed]",
      "text/plain": [
       "<Figure size 432x288 with 1 Axes>"
      ]
     },
     "metadata": {
      "needs_background": "light"
     },
     "output_type": "display_data"
    }
   ],
   "source": [
    "#creating an additional dataframe without Uber EATS records (out of analysis scope)\n",
    "df1 = rides[rides['Product Type']!='UberEATS Marketplace'][['Distance (miles)','Fare Amount']]\n",
    "\n",
    "print(df1.describe().transpose().round(1));\n",
    "df1.boxplot(grid=False);"
   ]
  },
  {
   "cell_type": "markdown",
   "id": "99524ad9",
   "metadata": {},
   "source": [
    "Taking a look on the continuous variables, we notice the presence of some outliers. However these outliers do not seem to reflect any abnormal value "
   ]
  },
  {
   "cell_type": "code",
   "execution_count": 6,
   "id": "8a1cc119",
   "metadata": {
    "scrolled": true
   },
   "outputs": [
    {
     "name": "stdout",
     "output_type": "stream",
     "text": [
      "                  count  mean   std  min  25%   50%   75%   max\n",
      "Distance (miles)  544.0   4.1   3.8  0.0  1.2   3.4   6.0  19.7\n",
      "Fare Amount       544.0  15.8  11.6  0.0  7.8  14.4  24.3  58.8\n"
     ]
    },
    {
     "data": {
      "image/png": "[encoded data removed]",
      "text/plain": [
       "<Figure size 720x144 with 2 Axes>"
      ]
     },
     "metadata": {
      "needs_background": "light"
     },
     "output_type": "display_data"
    }
   ],
   "source": [
    "print(df1.describe().transpose().round(1));\n",
    "df1.hist(grid=False, figsize=(10,2));"
   ]
  },
  {
   "cell_type": "markdown",
   "id": "d3bd4079",
   "metadata": {},
   "source": [
    "The charts below show a different perspective of the variables distribution. In this case, we see that both variables present an assimetric distribution (positive). For distance we notice that the higher frequency values are shorter distances, and for fare amount we have the same behaviour.\n",
    "\n",
    "Additionally, we also notice that the standard deviation are high, taking 'means' as our reference. This means that values in both variables are very dispersal."
   ]
  },
  {
   "cell_type": "code",
   "execution_count": 7,
   "id": "c2b34e3d",
   "metadata": {
    "scrolled": true
   },
   "outputs": [
    {
     "data": {
      "text/plain": [
       "<AxesSubplot:xlabel='Distance (miles)', ylabel='Fare Amount'>"
      ]
     },
     "execution_count": 7,
     "metadata": {},
     "output_type": "execute_result"
    },
    {
     "data": {
      "image/png": "[encoded data removed]",
      "text/plain": [
       "<Figure size 432x288 with 1 Axes>"
      ]
     },
     "metadata": {
      "needs_background": "light"
     },
     "output_type": "display_data"
    }
   ],
   "source": [
    "sns.scatterplot(x='Distance (miles)',y='Fare Amount',data=df1)"
   ]
  },
  {
   "cell_type": "markdown",
   "id": "9e61d973",
   "metadata": {},
   "source": [
    "We have a strong correlation between 'fare_amount' and 'distance_miles', inferring that as much you stay on the ride, higher will the fare be."
   ]
  },
  {
   "cell_type": "markdown",
   "id": "f46df869",
   "metadata": {},
   "source": [
    "## Data Preparation"
   ]
  },
  {
   "cell_type": "markdown",
   "id": "4a536855",
   "metadata": {},
   "source": [
    "Let's remove the column fare_currency, since all my trips happened inside a single country (Brazil)."
   ]
  },
  {
   "cell_type": "code",
   "execution_count": 8,
   "id": "4a573527",
   "metadata": {
    "scrolled": true
   },
   "outputs": [
    {
     "data": {
      "text/plain": [
       "0      BRL\n",
       "1      BRL\n",
       "2      BRL\n",
       "3      BRL\n",
       "4      BRL\n",
       "      ... \n",
       "549    BRL\n",
       "550    BRL\n",
       "551    BRL\n",
       "552    BRL\n",
       "553    BRL\n",
       "Name: Fare Currency, Length: 554, dtype: object"
      ]
     },
     "execution_count": 8,
     "metadata": {},
     "output_type": "execute_result"
    }
   ],
   "source": [
    "rides.pop('Fare Currency')"
   ]
  },
  {
   "cell_type": "code",
   "execution_count": 9,
   "id": "2f54536e",
   "metadata": {
    "scrolled": false
   },
   "outputs": [
    {
     "data": {
      "text/plain": [
       "Begin Trip Lat          29\n",
       "Begin Trip Lng          29\n",
       "Dropoff Lat             29\n",
       "Dropoff Lng             29\n",
       "Product Type             3\n",
       "City                     0\n",
       "Trip or Order Status     0\n",
       "Request Time             0\n",
       "Begin Trip Time          0\n",
       "Dropoff Time             0\n",
       "Distance (miles)         0\n",
       "Fare Amount              0\n",
       "dtype: int64"
      ]
     },
     "execution_count": 9,
     "metadata": {},
     "output_type": "execute_result"
    }
   ],
   "source": [
    "rides.isnull().sum().sort_values(ascending=False)"
   ]
  },
  {
   "cell_type": "markdown",
   "id": "d820aa59",
   "metadata": {},
   "source": [
    "Cheecking the missing value and despite empty Lng and Lat values (29 total), there were found 3 records without product_type. As shown below, these records are insignificant to my dataset, since practically no columns are fulfilled."
   ]
  },
  {
   "cell_type": "code",
   "execution_count": 10,
   "id": "ae6ac9a3",
   "metadata": {
    "scrolled": false
   },
   "outputs": [
    {
     "data": {
      "text/html": [
       "<div>\n",
       "<style scoped>\n",
       "    .dataframe tbody tr th:only-of-type {\n",
       "        vertical-align: middle;\n",
       "    }\n",
       "\n",
       "    .dataframe tbody tr th {\n",
       "        vertical-align: top;\n",
       "    }\n",
       "\n",
       "    .dataframe thead th {\n",
       "        text-align: right;\n",
       "    }\n",
       "</style>\n",
       "<table border=\"1\" class=\"dataframe\">\n",
       "  <thead>\n",
       "    <tr style=\"text-align: right;\">\n",
       "      <th></th>\n",
       "      <th>City</th>\n",
       "      <th>Product Type</th>\n",
       "      <th>Trip or Order Status</th>\n",
       "      <th>Request Time</th>\n",
       "      <th>Begin Trip Time</th>\n",
       "      <th>Begin Trip Lat</th>\n",
       "      <th>Begin Trip Lng</th>\n",
       "      <th>Dropoff Time</th>\n",
       "      <th>Dropoff Lat</th>\n",
       "      <th>Dropoff Lng</th>\n",
       "      <th>Distance (miles)</th>\n",
       "      <th>Fare Amount</th>\n",
       "    </tr>\n",
       "  </thead>\n",
       "  <tbody>\n",
       "    <tr>\n",
       "      <th>281</th>\n",
       "      <td>458</td>\n",
       "      <td>NaN</td>\n",
       "      <td>UNFULFILLED</td>\n",
       "      <td>2018-05-26 18:36:51 +0000 UTC</td>\n",
       "      <td>1970-01-01 00:00:00 +0000 UTC</td>\n",
       "      <td>NaN</td>\n",
       "      <td>NaN</td>\n",
       "      <td>1970-01-01 00:00:00 +0000 UTC</td>\n",
       "      <td>NaN</td>\n",
       "      <td>NaN</td>\n",
       "      <td>0.0</td>\n",
       "      <td>0.0</td>\n",
       "    </tr>\n",
       "    <tr>\n",
       "      <th>362</th>\n",
       "      <td>1449</td>\n",
       "      <td>NaN</td>\n",
       "      <td>UNFULFILLED</td>\n",
       "      <td>2018-02-13 01:59:25 +0000 UTC</td>\n",
       "      <td>1970-01-01 00:00:00 +0000 UTC</td>\n",
       "      <td>NaN</td>\n",
       "      <td>NaN</td>\n",
       "      <td>1970-01-01 00:00:00 +0000 UTC</td>\n",
       "      <td>NaN</td>\n",
       "      <td>NaN</td>\n",
       "      <td>0.0</td>\n",
       "      <td>0.0</td>\n",
       "    </tr>\n",
       "    <tr>\n",
       "      <th>392</th>\n",
       "      <td>1449</td>\n",
       "      <td>NaN</td>\n",
       "      <td>UNFULFILLED</td>\n",
       "      <td>2018-01-01 04:44:10 +0000 UTC</td>\n",
       "      <td>1970-01-01 00:00:00 +0000 UTC</td>\n",
       "      <td>NaN</td>\n",
       "      <td>NaN</td>\n",
       "      <td>1970-01-01 00:00:00 +0000 UTC</td>\n",
       "      <td>NaN</td>\n",
       "      <td>NaN</td>\n",
       "      <td>0.0</td>\n",
       "      <td>0.0</td>\n",
       "    </tr>\n",
       "  </tbody>\n",
       "</table>\n",
       "</div>"
      ],
      "text/plain": [
       "     City Product Type Trip or Order Status                   Request Time  \\\n",
       "281   458          NaN          UNFULFILLED  2018-05-26 18:36:51 +0000 UTC   \n",
       "362  1449          NaN          UNFULFILLED  2018-02-13 01:59:25 +0000 UTC   \n",
       "392  1449          NaN          UNFULFILLED  2018-01-01 04:44:10 +0000 UTC   \n",
       "\n",
       "                   Begin Trip Time  Begin Trip Lat  Begin Trip Lng  \\\n",
       "281  1970-01-01 00:00:00 +0000 UTC             NaN             NaN   \n",
       "362  1970-01-01 00:00:00 +0000 UTC             NaN             NaN   \n",
       "392  1970-01-01 00:00:00 +0000 UTC             NaN             NaN   \n",
       "\n",
       "                      Dropoff Time  Dropoff Lat  Dropoff Lng  \\\n",
       "281  1970-01-01 00:00:00 +0000 UTC          NaN          NaN   \n",
       "362  1970-01-01 00:00:00 +0000 UTC          NaN          NaN   \n",
       "392  1970-01-01 00:00:00 +0000 UTC          NaN          NaN   \n",
       "\n",
       "     Distance (miles)  Fare Amount  \n",
       "281               0.0          0.0  \n",
       "362               0.0          0.0  \n",
       "392               0.0          0.0  "
      ]
     },
     "execution_count": 10,
     "metadata": {},
     "output_type": "execute_result"
    }
   ],
   "source": [
    "rides[rides['Product Type'].isnull()]"
   ]
  },
  {
   "cell_type": "markdown",
   "id": "7c425e10",
   "metadata": {},
   "source": [
    "So now, let's get rid of these 3 records before proceding"
   ]
  },
  {
   "cell_type": "code",
   "execution_count": 11,
   "id": "187c1823",
   "metadata": {},
   "outputs": [],
   "source": [
    "rides.dropna(subset = ['Product Type'], inplace=True)"
   ]
  },
  {
   "cell_type": "markdown",
   "id": "b86e8a76",
   "metadata": {},
   "source": [
    "## Data Cleaning"
   ]
  },
  {
   "cell_type": "markdown",
   "id": "46777917",
   "metadata": {},
   "source": [
    "##### Checking categories in product_type column"
   ]
  },
  {
   "cell_type": "code",
   "execution_count": 12,
   "id": "fe7cfe2f",
   "metadata": {
    "scrolled": true
   },
   "outputs": [
    {
     "data": {
      "text/plain": [
       "UberX                   169\n",
       "uberX                   144\n",
       "uberX VIP                81\n",
       "VIP                      71\n",
       "POOL                     36\n",
       "Pool                     12\n",
       "UberEATS Marketplace     10\n",
       "POOL: MATCHED             8\n",
       "uberPOOL: MATCHED         5\n",
       "uberPOOL                  5\n",
       "Pool: MATCHED             4\n",
       "Black                     3\n",
       "Juntos                    1\n",
       "UberBLACK                 1\n",
       "uberx                     1\n",
       "Name: Product Type, dtype: int64"
      ]
     },
     "execution_count": 12,
     "metadata": {},
     "output_type": "execute_result"
    }
   ],
   "source": [
    "rides['Product Type'].value_counts()"
   ]
  },
  {
   "cell_type": "markdown",
   "id": "0a17eb8a",
   "metadata": {},
   "source": [
    "While analyzing the first column of the division, it can be clearly seen that different values referr to the same category. Therefore we reclassify them"
   ]
  },
  {
   "cell_type": "code",
   "execution_count": 13,
   "id": "dfc7ba9a",
   "metadata": {},
   "outputs": [],
   "source": [
    "rides = rides[rides['Product Type']!='UberEATS Marketplace']"
   ]
  },
  {
   "cell_type": "markdown",
   "id": "14c0fa4a",
   "metadata": {},
   "source": [
    "##### Categories reclassification"
   ]
  },
  {
   "cell_type": "code",
   "execution_count": 14,
   "id": "6f951394",
   "metadata": {},
   "outputs": [],
   "source": [
    "product_mapping = {'UberX':'UberX','uberX':'UberX','uberX VIP':'UberX','VIP':'UberX','POOL':'Pool','POOL: MATCHED':'Pool','UberBLACK': 'Black',\n",
    "                   'uberx':'UberX','uberPOOL':'Pool','uberPOOL: MATCHED':'Pool','Pool: MATCHED':'Pool'}"
   ]
  },
  {
   "cell_type": "code",
   "execution_count": 15,
   "id": "182941f9",
   "metadata": {},
   "outputs": [],
   "source": [
    "rides['Product Type'].replace(product_mapping, inplace = True)"
   ]
  },
  {
   "cell_type": "code",
   "execution_count": 16,
   "id": "e487b2dc",
   "metadata": {},
   "outputs": [
    {
     "data": {
      "text/plain": [
       "UberX     466\n",
       "Pool       70\n",
       "Black       4\n",
       "Juntos      1\n",
       "Name: Product Type, dtype: int64"
      ]
     },
     "execution_count": 16,
     "metadata": {},
     "output_type": "execute_result"
    }
   ],
   "source": [
    "rides['Product Type'].value_counts()"
   ]
  },
  {
   "cell_type": "markdown",
   "id": "8bb8dd7d",
   "metadata": {},
   "source": [
    "Since most of these reviews are only around Uber rides, lets remove the UberEATS records from the database."
   ]
  },
  {
   "cell_type": "markdown",
   "id": "d48b1c83",
   "metadata": {},
   "source": [
    "The days tend to play a vital role in the analysis as we can divide them into different parts and extract insights that come in different ways. \n",
    "As we can see that the feature days are of object data type, therefore we convert them into date time format."
   ]
  },
  {
   "cell_type": "markdown",
   "id": "a9c2a27a",
   "metadata": {},
   "source": [
    "## Data Transformation"
   ]
  },
  {
   "cell_type": "markdown",
   "id": "b8db8492",
   "metadata": {},
   "source": [
    "##### Library for manipulating dates and times"
   ]
  },
  {
   "cell_type": "code",
   "execution_count": 17,
   "id": "ce147ce5",
   "metadata": {},
   "outputs": [],
   "source": [
    "from datetime import datetime\n",
    "from datetime import timedelta"
   ]
  },
  {
   "cell_type": "markdown",
   "id": "fa7f2a14",
   "metadata": {},
   "source": [
    "##### Function to convert features to datetime"
   ]
  },
  {
   "cell_type": "code",
   "execution_count": 18,
   "id": "35367d63",
   "metadata": {},
   "outputs": [],
   "source": [
    "def date_convertion(df, cols):\n",
    "  for col in cols:\n",
    "    df[col] = df[col].apply(lambda x: x.replace(' +0000 UTC', ''))\n",
    "    df[col] = pd.to_datetime(df[col])\n",
    "  return df"
   ]
  },
  {
   "cell_type": "code",
   "execution_count": 19,
   "id": "03ab3fa0",
   "metadata": {},
   "outputs": [],
   "source": [
    "rides = date_convertion(rides, ['Request Time', 'Begin Trip Time', 'Dropoff Time'])"
   ]
  },
  {
   "cell_type": "markdown",
   "id": "f5301047",
   "metadata": {},
   "source": [
    "Now, let’s split the feature into different parts of the date. "
   ]
  },
  {
   "cell_type": "code",
   "execution_count": 20,
   "id": "3809bf42",
   "metadata": {},
   "outputs": [],
   "source": [
    "rides['year'] = rides['Request Time'].map(lambda x: datetime.strftime(x,\"%Y\"))\n",
    "rides['month'] = rides['Request Time'].map(lambda x: datetime.strftime(x,\"%b\"))\n",
    "rides['weekday'] = rides['Request Time'].map(lambda x: datetime.strftime(x,\"%a\"))\n",
    "rides['time'] = rides['Request Time'].map(lambda x: datetime.strftime(x,\"%H:%M\"))"
   ]
  },
  {
   "cell_type": "markdown",
   "id": "c80e2997",
   "metadata": {},
   "source": [
    "## Feature Engineering"
   ]
  },
  {
   "cell_type": "markdown",
   "id": "c533723a",
   "metadata": {},
   "source": [
    "Lets create a new feature to understand how much it cost per kilometer."
   ]
  },
  {
   "cell_type": "code",
   "execution_count": 21,
   "id": "b8c874b3",
   "metadata": {
    "scrolled": true
   },
   "outputs": [],
   "source": [
    "rides['distance_km'] = round(rides['Distance (miles)']*1.60934,2)\n",
    "rides['amount_km'] = round(rides['Fare Amount']/rides.distance_km,2)"
   ]
  },
  {
   "cell_type": "markdown",
   "id": "c2c7d4ed",
   "metadata": {},
   "source": [
    "Delta time between and will now allow for how much time (in minutes) is required for Uber cars to reach the destination. In this case, it is calculated on the basis of minutes."
   ]
  },
  {
   "cell_type": "code",
   "execution_count": 22,
   "id": "0b3d7412",
   "metadata": {},
   "outputs": [],
   "source": [
    "rides['request_lead_time'] = rides['Begin Trip Time'] - rides['Request Time']\n",
    "rides['request_lead_time'] = rides['request_lead_time'].apply(lambda x: round(x.total_seconds()/60,1))"
   ]
  },
  {
   "cell_type": "markdown",
   "id": "c6b03382",
   "metadata": {},
   "source": [
    "Similarly, the delta time between and will now allow for how much time (in minutes) is spent on each trip."
   ]
  },
  {
   "cell_type": "code",
   "execution_count": 23,
   "id": "a195bd87",
   "metadata": {},
   "outputs": [],
   "source": [
    "rides['trip_duration'] = rides['Dropoff Time'] - rides['Begin Trip Time']\n",
    "rides['trip_duration'] = rides['trip_duration'].apply(lambda x: round(x.total_seconds()/60,1))"
   ]
  },
  {
   "cell_type": "markdown",
   "id": "07977a6d",
   "metadata": {},
   "source": [
    "Since features on Driver_Cancelled and Driver_Cancelled records will not be useful in the analysis, lets set them as useless values to clear the dataset a bit."
   ]
  },
  {
   "cell_type": "code",
   "execution_count": 24,
   "id": "e67e12dd",
   "metadata": {},
   "outputs": [],
   "source": [
    "rides.loc[(rides['Trip or Order Status'] == 'CANCELED') | (rides['Trip or Order Status'] == 'DRIVER_CANCELED'),'request_lead_time']=np.nan\n",
    "rides.loc[(rides['Trip or Order Status'] == 'CANCELED') | (rides['Trip or Order Status'] == 'DRIVER_CANCELED'),'amount_km']=np.nan\n",
    "rides.loc[(rides['Trip or Order Status'] == 'CANCELED') | (rides['Trip or Order Status'] == 'DRIVER_CANCELED'),['Begin Trip Time','Dropoff Time']]= np.nan"
   ]
  },
  {
   "cell_type": "markdown",
   "id": "3e822cb7",
   "metadata": {},
   "source": [
    "## Data Analysis"
   ]
  },
  {
   "cell_type": "markdown",
   "id": "30d4ea26",
   "metadata": {},
   "source": [
    "In order to better organize the analysis, deleting all trips with CANCELED and DRIVER_CANCELED, as they should not be considered in some queries."
   ]
  },
  {
   "cell_type": "code",
   "execution_count": 25,
   "id": "0d79e12b",
   "metadata": {},
   "outputs": [],
   "source": [
    "completed_rides = rides[(rides['Trip or Order Status']!='CANCELED')&(rides['Trip or Order Status']!='DRIVER_CANCELED')]"
   ]
  },
  {
   "cell_type": "markdown",
   "id": "598c132d",
   "metadata": {},
   "source": [
    "##### Number of trips per year from April'16 to Jan'21"
   ]
  },
  {
   "cell_type": "code",
   "execution_count": 26,
   "id": "87adbb24",
   "metadata": {},
   "outputs": [
    {
     "name": "stdout",
     "output_type": "stream",
     "text": [
      "Total trips:  444\n",
      "2016     17\n",
      "2017    120\n",
      "2018    146\n",
      "2019    106\n",
      "2020     52\n",
      "2021      3\n",
      "Name: year, dtype: int64\n"
     ]
    },
    {
     "data": {
      "image/png": "[encoded data removed]",
      "text/plain": [
       "<Figure size 432x288 with 1 Axes>"
      ]
     },
     "metadata": {
      "needs_background": "light"
     },
     "output_type": "display_data"
    }
   ],
   "source": [
    "print('Total trips: ', completed_rides['Trip or Order Status'].count())\n",
    "print(completed_rides.year.value_counts().sort_index(ascending=True))\n",
    "sns.countplot(data=completed_rides, x='year',order=['2016','2017','2018','2019','2020','2021'], palette='pastel');"
   ]
  },
  {
   "cell_type": "markdown",
   "id": "d9b78f24",
   "metadata": {},
   "source": [
    "If we do not think about 2016 and 2021 (not full years), we can clearly see that from 2017 to 2019 mid-year passengers are 124, and that there is a significant decrease from 2019 to 2020 (-51%). This is easily explained by the outbreak of COVID."
   ]
  },
  {
   "cell_type": "markdown",
   "id": "6b1e1e60",
   "metadata": {},
   "source": [
    "##### Nummber of trips cancelled or completed"
   ]
  },
  {
   "cell_type": "code",
   "execution_count": 27,
   "id": "350c3ca4",
   "metadata": {
    "scrolled": true
   },
   "outputs": [
    {
     "name": "stdout",
     "output_type": "stream",
     "text": [
      "Total trips:  541\n",
      "COMPLETED          82.1\n",
      "CANCELED           16.1\n",
      "DRIVER_CANCELED     1.8\n",
      "Name: Trip or Order Status, dtype: float64\n"
     ]
    }
   ],
   "source": [
    "print('Total trips: ', rides['Trip or Order Status'].count())\n",
    "print(round(rides['Trip or Order Status'].value_counts()/rides['Trip or Order Status'].size*100,1))"
   ]
  },
  {
   "cell_type": "code",
   "execution_count": 28,
   "id": "508c4572",
   "metadata": {},
   "outputs": [
    {
     "data": {
      "image/png": "[encoded data removed]",
      "text/plain": [
       "<Figure size 432x288 with 1 Axes>"
      ]
     },
     "metadata": {
      "needs_background": "light"
     },
     "output_type": "display_data"
    }
   ],
   "source": [
    "sns.countplot(data=rides, x='year', order=['2015','2016','2017','2018','2019','2020','2021'], hue='Trip or Order Status', palette = 'pastel');"
   ]
  },
  {
   "cell_type": "code",
   "execution_count": 29,
   "id": "90a039d8",
   "metadata": {},
   "outputs": [
    {
     "data": {
      "image/png": "[encoded data removed]",
      "text/plain": [
       "<Figure size 432x288 with 1 Axes>"
      ]
     },
     "metadata": {
      "needs_background": "light"
     },
     "output_type": "display_data"
    }
   ],
   "source": [
    "rides.groupby(by=['year'])['Trip or Order Status'].value_counts(normalize=True).unstack('Trip or Order Status').plot.bar(stacked=True);"
   ]
  },
  {
   "cell_type": "markdown",
   "id": "4e656714",
   "metadata": {},
   "source": [
    "If we look at the barriers set out below, we see that with the exception of 2015 and 2021 (due to low travel volume), 2020 has the highest cancellation record. This could be an alarming indicator, given the negative impact on businesses after the Covid outbreak. Overall, the cancellation rate was 17.9% (given the cancellation of RIDERS and DRIVERS)"
   ]
  },
  {
   "cell_type": "markdown",
   "id": "6e843664",
   "metadata": {},
   "source": [
    "##### Places for the most layoffs"
   ]
  },
  {
   "cell_type": "markdown",
   "id": "7fb8d135",
   "metadata": {},
   "source": [
    "The next heatmap with power shows the most visited areas in all hues and sizes. This could be important information for Uber to adjust prices and increase demand in certain regions and include time-consuming data to track user behavior."
   ]
  },
  {
   "cell_type": "code",
   "execution_count": 30,
   "id": "7f68b37f",
   "metadata": {},
   "outputs": [],
   "source": [
    "import folium"
   ]
  },
  {
   "cell_type": "code",
   "execution_count": 31,
   "id": "a3d9c4fa",
   "metadata": {},
   "outputs": [],
   "source": [
    "data = completed_rides.dropna(subset=['Dropoff Lat', 'Dropoff Lng'])"
   ]
  },
  {
   "cell_type": "code",
   "execution_count": 32,
   "id": "09b9ccba",
   "metadata": {},
   "outputs": [
    {
     "data": {
      "text/html": [
       "<div style=\"width:100%;\"><div style=\"position:relative;width:100%;height:0;padding-bottom:60%;\"><span style=\"color:#565656\">Make this Notebook Trusted to load map: File -> Trust Notebook</span><iframe srcdoc=\"&lt;!DOCTYPE html&gt;\n",
       "&lt;head&gt;    \n",
       "    &lt;meta http-equiv=&quot;content-type&quot; content=&quot;text/html; charset=UTF-8&quot; /&gt;\n",
       "    \n",
       "        &lt;script&gt;\n",
       "            L_NO_TOUCH = false;\n",
       "            L_DISABLE_3D = false;\n",
       "        &lt;/script&gt;\n",
       "    \n",
       "    &lt;style&gt;html, body {width: 100%;height: 100%;margin: 0;padding: 0;}&lt;/style&gt;\n",
       "    &lt;style&gt;#map {position:absolute;top:0;bottom:0;right:0;left:0;}&lt;/style&gt;\n",
       "    &lt;script src=&quot;https://cdn.jsdelivr.net/npm/leaflet@1.6.0/dist/leaflet.js&quot;&gt;&lt;/script&gt;\n",
       "    &lt;script src=&quot;https://code.jquery.com/jquery-1.12.4.min.js&quot;&gt;&lt;/script&gt;\n",
       "    &lt;script src=&quot;https://maxcdn.bootstrapcdn.com/bootstrap/3.2.0/js/bootstrap.min.js&quot;&gt;&lt;/script&gt;\n",
       "    &lt;script src=&quot;https://cdnjs.cloudflare.com/ajax/libs/Leaflet.awesome-markers/2.0.2/leaflet.awesome-markers.js&quot;&gt;&lt;/script&gt;\n",
       "    &lt;link rel=&quot;stylesheet&quot; href=&quot;https://cdn.jsdelivr.net/npm/leaflet@1.6.0/dist/leaflet.css&quot;/&gt;\n",
       "    &lt;link rel=&quot;stylesheet&quot; href=&quot;https://maxcdn.bootstrapcdn.com/bootstrap/3.2.0/css/bootstrap.min.css&quot;/&gt;\n",
       "    &lt;link rel=&quot;stylesheet&quot; href=&quot;https://maxcdn.bootstrapcdn.com/bootstrap/3.2.0/css/bootstrap-theme.min.css&quot;/&gt;\n",
       "    &lt;link rel=&quot;stylesheet&quot; href=&quot;https://maxcdn.bootstrapcdn.com/font-awesome/4.6.3/css/font-awesome.min.css&quot;/&gt;\n",
       "    &lt;link rel=&quot;stylesheet&quot; href=&quot;https://cdnjs.cloudflare.com/ajax/libs/Leaflet.awesome-markers/2.0.2/leaflet.awesome-markers.css&quot;/&gt;\n",
       "    &lt;link rel=&quot;stylesheet&quot; href=&quot;https://cdn.jsdelivr.net/gh/python-visualization/folium/folium/templates/leaflet.awesome.rotate.min.css&quot;/&gt;\n",
       "    \n",
       "            &lt;meta name=&quot;viewport&quot; content=&quot;width=device-width,\n",
       "                initial-scale=1.0, maximum-scale=1.0, user-scalable=no&quot; /&gt;\n",
       "            &lt;style&gt;\n",
       "                #map_8c4de59ebbb762720bf17ed365771f41 {\n",
       "                    position: relative;\n",
       "                    width: 80.0%;\n",
       "                    height: 50.0%;\n",
       "                    left: 0.0%;\n",
       "                    top: 0.0%;\n",
       "                }\n",
       "            &lt;/style&gt;\n",
       "        \n",
       "    &lt;script src=&quot;https://cdn.jsdelivr.net/gh/python-visualization/folium@master/folium/templates/leaflet_heat.min.js&quot;&gt;&lt;/script&gt;\n",
       "&lt;/head&gt;\n",
       "&lt;body&gt;    \n",
       "    \n",
       "            &lt;div class=&quot;folium-map&quot; id=&quot;map_8c4de59ebbb762720bf17ed365771f41&quot; &gt;&lt;/div&gt;\n",
       "        \n",
       "&lt;/body&gt;\n",
       "&lt;script&gt;    \n",
       "    \n",
       "            var map_8c4de59ebbb762720bf17ed365771f41 = L.map(\n",
       "                &quot;map_8c4de59ebbb762720bf17ed365771f41&quot;,\n",
       "                {\n",
       "                    center: [-23.5489, -46.6388],\n",
       "                    crs: L.CRS.EPSG3857,\n",
       "                    zoom: 7,\n",
       "                    zoomControl: true,\n",
       "                    preferCanvas: false,\n",
       "                }\n",
       "            );\n",
       "            L.control.scale().addTo(map_8c4de59ebbb762720bf17ed365771f41);\n",
       "\n",
       "            \n",
       "\n",
       "        \n",
       "    \n",
       "            var tile_layer_7864cd089fba95f8e5d0b9b893a2d512 = L.tileLayer(\n",
       "                &quot;https://stamen-tiles-{s}.a.ssl.fastly.net/terrain/{z}/{x}/{y}.jpg&quot;,\n",
       "                {&quot;attribution&quot;: &quot;Map tiles by \\u003ca href=\\&quot;http://stamen.com\\&quot;\\u003eStamen Design\\u003c/a\\u003e, under \\u003ca href=\\&quot;http://creativecommons.org/licenses/by/3.0\\&quot;\\u003eCC BY 3.0\\u003c/a\\u003e. Data by \\u0026copy; \\u003ca href=\\&quot;http://openstreetmap.org\\&quot;\\u003eOpenStreetMap\\u003c/a\\u003e, under \\u003ca href=\\&quot;http://creativecommons.org/licenses/by-sa/3.0\\&quot;\\u003eCC BY SA\\u003c/a\\u003e.&quot;, &quot;detectRetina&quot;: false, &quot;maxNativeZoom&quot;: 18, &quot;maxZoom&quot;: 18, &quot;minZoom&quot;: 0, &quot;noWrap&quot;: false, &quot;opacity&quot;: 1, &quot;subdomains&quot;: &quot;abc&quot;, &quot;tms&quot;: false}\n",
       "            ).addTo(map_8c4de59ebbb762720bf17ed365771f41);\n",
       "        \n",
       "    \n",
       "            var heat_map_3fb78958247f107c4d5cf3f2ad9de2e4 = L.heatLayer(\n",
       "                [[-23.559359, -46.666542], [-23.599585, -46.715717], [-23.559273, -46.666595], [-23.425755, -46.48119], [-23.559261, -46.66651], [-23.6245, -46.701077], [-23.559233, -46.666546], [-23.559366, -46.666637], [-23.54775, -46.644104], [-23.559292, -46.66655], [-23.567545, -46.66403], [-23.559343, -46.666496], [-23.566214, -46.675385], [-23.56196, -46.65819], [-23.624607, -46.701088], [-23.55949, -46.66645], [-23.624554, -46.701042], [-23.5593595, -46.6665002], [-23.6245499, -46.7011459], [-23.6245747, -46.701121], [-23.5594793, -46.6664565], [-23.6247021, -46.7009501], [-23.6244897, -46.7009874], [-23.6249448, -46.7013194], [-23.5593722, -46.6664251], [-23.6249106, -46.7006571], [-23.5595624, -46.6665394], [-23.6245325, -46.7010044], [-23.6245682, -46.7009553], [-23.5594719, -46.6664113], [-23.6246338, -46.7009416], [-23.55945, -46.66646], [-23.6245219, -46.7011361], [-23.5897694, -46.6340214], [-23.568199, -46.6481043], [-23.5593779, -46.6664841], [-23.6245191, -46.7010364], [-23.624603, -46.7009155], [-23.6245406, -46.7011174], [-23.624573, -46.7009811], [-23.554227, -46.6560723], [-23.6245017, -46.700992], [-23.6245215, -46.7011146], [-23.6245334, -46.7010361], [-23.6245533, -46.700999], [-23.6245483, -46.7007607], [-23.5592766, -46.6666408], [-23.6245632, -46.7011078], [-23.5592925, -46.6664492], [-23.5593245, -46.6665357], [-23.6245428, -46.7010183], [-23.6244904, -46.7009642], [-23.5593177, -46.6664697], [-23.5897198, -46.6340898], [-23.6247, -46.70114], [-23.5593471, -46.6663865], [-23.5599594, -46.6966915], [-23.6236397, -46.6996955], [-23.5666085, -46.679704], [-23.6246805, -46.700688], [-23.5595676, -46.6651815], [-23.6245537, -46.7009911], [-23.6246039, -46.7011292], [-23.5593657, -46.6664886], [-23.6246512, -46.7012253], [-23.5593573, -46.6666084], [-23.62508, -46.70083], [-23.5591479, -46.6665651], [-23.49942, -46.83712], [-23.5681581, -46.648213], [-23.5513271, -46.6782767], [-23.55944, -46.66647], [-23.6251984, -46.7009311], [-23.6328069, -46.6934561], [-23.559358, -46.6664925], [-23.5897093, -46.6341447], [-23.5838811, -46.6736383], [-23.5630458, -46.6726512], [-23.5593337, -46.6665488], [-23.6112972, -46.5707363], [-23.5898961, -46.6347077], [-23.564655, -46.6803749], [-23.5897394, -46.6339828], [-23.5901449, -46.634857], [-23.5925744, -46.6485508], [-23.6113086, -46.5708697], [-23.61126, -46.57101], [-23.6111714, -46.571065], [-23.6111541, -46.5710089], [-23.5897361, -46.6342802], [-23.5593949, -46.6665817], [-23.5578081, -46.6817216], [-23.6113211, -46.5707727], [-23.6112737, -46.570818], [-23.5896776, -46.6339224], [-23.6114832, -46.570899], [-23.61135, -46.57091], [-23.6113042, -46.5708159], [-23.6113413, -46.5707881], [-23.6113665, -46.5709412], [-23.6114896, -46.5708406], [-23.5594191, -46.6663381], [-23.5688799, -46.6610875], [-23.611196, -46.571191], [-23.6235222, -46.5656995], [-23.61148, -46.57081], [-23.5897059, -46.6340259], [-23.5765285, -46.657221], [-23.6113663, -46.57086], [-23.6234363, -46.5657323], [-23.6114641, -46.570791], [-23.5813131, -46.6805361], [-23.55931, -46.66663], [-23.56342, -46.65128], [-23.5593653, -46.6664751], [-23.6114347, -46.5707262], [-23.6235879, -46.5657363], [-23.6190552, -46.5656031], [-23.611284, -46.5710134], [-23.6114657, -46.5707776], [-23.6113924, -46.570781], [-23.6113489, -46.5708553], [-23.589699, -46.6338321], [-23.5897046, -46.6342625], [-23.5593208, -46.6665461], [-23.499651, -46.6443482], [-23.5897766, -46.6350174], [-23.5718541, -46.6435307], [-23.5897042, -46.6340583], [-23.5592778, -46.6664928], [-23.5897152, -46.6339973], [-23.56548, -46.66629], [-23.5897333, -46.6340835], [-23.6267726, -46.5798585], [-23.6114035, -46.5707249], [-23.5897353, -46.6342724], [-23.5691332, -46.6602163], [-23.5593737, -46.6663778], [-23.5897415, -46.6342876], [-23.589711, -46.6341624], [-23.5899127, -46.6347363], [-23.5552, -46.65715], [-23.5610824, -46.6920423], [-23.5706603, -46.693383], [-23.5897971, -46.634184], [-23.6113438, -46.570978], [-23.5896775, -46.6342089], [-23.5592277, -46.6631332], [-23.58854, -46.67881], [-23.5691248, -46.6612174], [-23.58967, -46.634], [-23.5593764, -46.6631889], [-23.5462117, -46.6486085], [-23.5896768, -46.6341683], [-23.6090984, -46.6666032], [-23.6114817, -46.5706559], [-23.6114035, -46.5708554], [-23.61151, -46.57074], [-23.5592587, -46.66303], [-23.5897222, -46.6341299], [-23.5690166, -46.661077], [-23.5593704, -46.6632237], [-23.5368778, -46.6634445], [-23.6114086, -46.5707626], [-23.5036558, -46.6370967], [-23.5139202, -46.6191831], [-23.5144517, -46.6163633], [-23.5690601, -46.6611127], [-23.5036539, -46.6371543], [-23.5617133, -46.658159], [-23.55575, -46.6552617], [-23.5593646, -46.6632126], [-23.5542748, -46.6561255], [-23.5592926, -46.6631932], [-23.5593606, -46.6631198], [-23.5716401, -46.6882496], [-23.56023173, -46.66414962], [-23.5033043, -46.636905], [-23.6113175, -46.5708262], [-23.5593419, -46.6632209], [-23.5619878, -46.6582328], [-23.6116444, -46.5705324], [-23.5589855, -46.6632146], [-23.61134745, -46.57079129], [-23.5036425, -46.6371866], [-23.6105865, -46.570705], [-23.5036788, -46.637129], [-23.5037043, -46.6327645], [-23.5621533, -46.6578083], [-23.6190601, -46.5656531], [-23.611265, -46.57126], [-23.5690588, -46.6611788], [-23.5035722, -46.6373399], [-23.6111067, -46.5710737], [-23.5034274, -46.637272], [-23.5630296, -46.6670311], [-23.5736364, -46.6556252], [-23.5970083, -46.5748443], [-23.5592227, -46.6632374], [-23.5536201, -46.6942272], [-23.5595104, -46.663229], [-23.503677, -46.6368987], [-23.55945, -46.6632417], [-23.5592518, -46.6630182], [-23.5577831, -46.6898198], [-23.5594317, -46.6633173], [-23.5867741, -46.642758], [-23.6113574, -46.5708662], [-23.5035759, -46.6371187], [-23.61134558, -46.57091107], [-23.503661, -46.6371771], [-23.6113811, -46.5707523], [-23.6114569, -46.5707386], [-23.5036469, -46.6371567], [-23.5032638, -46.6246263], [-23.5592879, -46.6632155], [-23.5036424, -46.6369836], [-23.6113486, -46.5709126], [-23.5601571, -46.6774145], [-23.6111022, -46.57182], [-23.6112414, -46.5708448], [-23.5693051, -46.6599246], [-23.5583273, -46.6605763], [-23.5594438, -46.6633356], [-23.5593885, -46.6632331], [-23.611314, -46.57088793], [-23.5594235, -46.6633392], [-23.5036409, -46.6373103], [-23.5032905, -46.6369492], [-23.5032564, -46.6367743], [-23.5588653, -46.6908072], [-23.6114303, -46.57086], [-23.5834123, -46.6704481], [-23.5035727, -46.63709984], [-23.6234972, -46.5657367], [-23.5033104, -46.6368075], [-23.5618476, -46.6581413], [-23.5032674, -46.6369022], [-23.5034429, -46.6377608], [-23.5578202, -46.689901], [-23.5019996, -46.6273084], [-23.5032578, -46.6367459], [-23.5032054, -46.6370109], [-23.5575996, -46.6895355], [-23.5032828, -46.6368119], [-23.5032569, -46.6370334], [-23.5032128, -46.6379457], [-23.61105, -46.6948029], [-23.6112101, -46.5710416], [-23.6019667, -46.6736382], [-23.5032583, -46.6368603], [-23.5036192, -46.6371554], [-23.5564554, -46.7502916], [-23.5610276, -46.6826267], [-23.5036494, -46.6371391], [-23.5034208, -46.6368915], [-23.5031981, -46.6372663], [-23.5032457, -46.6366457], [-23.6467813, -46.6304311], [-23.5612468, -46.6565113], [-23.503257, -46.6375048], [-23.5032553, -46.6375279], [-23.5032685, -46.6367701], [-23.546632, -46.6042337], [-23.5954224, -46.6907119], [-23.5032237, -46.6370332], [-23.5025158, -46.6364897], [-23.5033975, -46.6366088], [-23.50243945, -46.63649619], [-23.5032727, -46.636787], [-23.5032013, -46.6377976], [-23.5036221, -46.6371587], [-23.6114767, -46.5707417], [-23.503197, -46.6368611], [-23.6111316, -46.5711237], [-23.6234899, -46.5656824], [-23.5032882, -46.6367482], [-23.503291, -46.636849], [-23.5032675, -46.6369339], [-23.5951242, -46.691146], [-23.5595898, -46.6890604], [-23.5032008, -46.6375932], [-23.5032163, -46.6377011], [-23.4321942, -45.068019], [-23.5032193, -46.6377141], [-23.5035504, -46.6374929], [-23.5617439, -46.657929], [-23.5036461, -46.6371739], [-23.5039759, -46.639198], [-23.5181919, -46.6766396], [-23.5035167, -46.637355], [-23.5036583, -46.6368817], [-23.5036722, -46.6372957], [-23.5036414, -46.6367785], [-23.5938773, -46.6912427], [-23.5033387, -46.6372134], [-23.5033095, -46.6372907], [-23.5033634, -46.6369551], [-23.530175, -46.666265], [-23.5036347, -46.637124], [-23.503322, -46.6366226], [-23.4878848, -46.5947091], [-23.5578345, -46.6898763], [-23.503591, -46.6371741], [-23.5823728, -46.6644769], [-23.5616819, -46.658152], [-23.5037175, -46.6371653], [-23.9758385, -46.3011899], [-23.5032566, -46.6371156], [-23.6107181, -46.5702805], [-23.5033627, -46.63673], [-23.503292, -46.6372564], [-23.5032173, -46.6376465], [-23.503255, -46.6373243], [-23.5034308, -46.6364732], [-23.6113615, -46.5708377], [-23.50326, -46.6370583], [-23.9753716, -46.3008707], [-23.9547153, -46.346224], [-23.9757989, -46.301236], [-23.5032583, -46.6372733], [-23.5032044, -46.6368571], [-23.5033071, -46.6370396], [-23.50330782, -46.63752702], [-23.62207, -46.56985], [-23.5032122, -46.637111], [-23.5031903, -46.6368144], [-23.5036026, -46.6373307], [-23.4805317, -46.6064783], [-23.5033132, -46.6366607], [-23.5157182, -46.619488], [-23.503614, -46.6372977], [-23.5032991, -46.6371265], [-23.503618, -46.6373007], [-23.60177075, -46.67760154], [-23.5032867, -46.6366951], [-23.5032866, -46.6368266], [-23.50329369, -46.6367841], [-23.58443324, -46.60516321], [-23.5032916, -46.6371331], [-23.5033033, -46.636945], [-23.5036273, -46.6368185], [-23.503278, -46.6368498], [-23.5033267, -46.6367883], [-23.5033084, -46.6373163], [-23.5032959, -46.6372827], [-23.5032841, -46.6373566], [-23.5031, -46.63692], [-23.503335, -46.636675], [-23.5032604, -46.6367601], [-23.6108178, -46.5702857], [-23.503289, -46.6369199], [-23.6111832, -46.5706626], [-23.5032849, -46.6373822], [-23.6115179, -46.5706344], [-23.5032458, -46.6367602], [-23.5032714, -46.6376718], [-23.6220504, -46.5701294], [-23.5036595, -46.6368117], [-23.6113573, -46.5707287], [-23.5047575, -46.628152], [-23.50331184, -46.63734066], [-23.6037844, -46.6446635], [-23.6112857, -46.5707956], [-23.503144, -46.6368201], [-23.5032976, -46.635072], [-23.6114053, -46.6679377], [-23.5032706, -46.6368144], [-23.5034537, -46.6381879], [-23.5032248, -46.6369166], [-23.5032941, -46.6369395], [-23.5033833, -46.63302], [-23.503285, -46.6379517], [-23.503305, -46.6368483], [-23.5585955, -46.6599003], [-23.5033176, -46.6369607], [-23.5033084, -46.6370028], [-23.6117808, -46.5695641], [-23.6028056, -46.6743477], [-23.6114159, -46.570721], [-23.6110598, -46.5710098], [-23.61111, -46.57121], [-23.61129, -46.5710217], [-23.61133, -46.57136], [-23.6114714, -46.5706741], [-23.6111852, -46.5710471], [-23.6114917, -46.570635], [-23.6111476, -46.571028], [-23.6111476, -46.5709583], [-23.6111639, -46.5708754], [-23.6113337, -46.5707646], [-23.6112529, -46.5710238], [-23.6115989, -46.5706637], [-23.6112042, -46.5710673], [-23.6113167, -46.5708367], [-23.6111309, -46.5712652], [-23.6110929, -46.5711355], [-23.6111595, -46.571014], [-23.6026476, -46.6453556], [-23.6111404, -46.5712019], [-23.6027646, -46.6451823], [-23.565888, -46.6846089], [-23.6111281, -46.5708975], [-23.6111639, -46.5710143], [-23.6109405, -46.5708151], [-23.6110963, -46.5711048], [-23.6111624, -46.5710234], [-23.6111472, -46.5712045], [-23.6110169, -46.5711359], [-23.6111973, -46.5710136], [-23.6025022, -46.6450023], [-23.6111199, -46.5710629], [-23.6112753, -46.5708652], [-23.6113567, -46.5709017], [-23.6110715, -46.5709414], [-23.5976648, -46.6235027], [-23.61124989, -46.57104947], [-23.5740178, -46.6961832], [-23.5934814, -46.6527237], [-23.6205906, -46.6622467], [-23.6027117, -46.6453367], [-23.6110017, -46.5711467], [-23.6111864, -46.5710514], [-23.6029511, -46.645261], [-23.6111339, -46.5717526], [-23.6112239, -46.5710056], [-23.6108462, -46.5714736], [-23.6026436, -46.645322], [-23.61320343, -46.57176448], [-23.6112543, -46.5708784], [-23.6111272, -46.5709949], [-23.61118154, -46.57110295], [-22.9030567, -43.1346819], [-22.9020982, -43.114359], [-23.6026564, -46.6450948], [-23.60262936, -46.64534986], [-23.6026706, -46.6650192], [-23.6110216, -46.571107], [-23.6135612, -46.5763797], [-23.6026544, -46.6453572], [-23.6160678, -46.665922], [-23.6027604, -46.6448974], [-23.6027366, -46.6453516], [-23.5695488, -46.6724122]],\n",
       "                {&quot;blur&quot;: 15, &quot;maxZoom&quot;: 18, &quot;minOpacity&quot;: 0.5, &quot;radius&quot;: 25}\n",
       "            ).addTo(map_8c4de59ebbb762720bf17ed365771f41);\n",
       "        \n",
       "&lt;/script&gt;\" style=\"position:absolute;width:100%;height:100%;left:0;top:0;border:none !important;\" allowfullscreen webkitallowfullscreen mozallowfullscreen></iframe></div></div>"
      ],
      "text/plain": [
       "<folium.folium.Map at 0x10bf4c0>"
      ]
     },
     "execution_count": 32,
     "metadata": {},
     "output_type": "execute_result"
    }
   ],
   "source": [
    "from folium import plugins\n",
    "coord=[]\n",
    "for lat,lng in zip(data['Dropoff Lat'].values, data['Dropoff Lng'].values):\n",
    "  coord.append([lat,lng])\n",
    "map = folium.Map(\n",
    "    location=[-23.5489,-46.6388],\n",
    "    tiles='Stamen Terrain',\n",
    "    zoom_start=7,\n",
    "    width='80%', \n",
    "    height='50%',\n",
    "    control_scale=True)\n",
    "map.add_child(plugins.HeatMap(coord))\n",
    "map"
   ]
  },
  {
   "cell_type": "markdown",
   "id": "d80f60c6",
   "metadata": {},
   "source": [
    "The above heatmap shows the red is the most in-demand region for Uber cabs followed by the green region. Uber should increase the number of cabs in these regions to increase customer satisfaction and revenue."
   ]
  },
  {
   "cell_type": "markdown",
   "id": "c0a3b7cb",
   "metadata": {},
   "source": [
    "##### Type of product most often used"
   ]
  },
  {
   "cell_type": "code",
   "execution_count": 33,
   "id": "db1615cf",
   "metadata": {},
   "outputs": [
    {
     "name": "stdout",
     "output_type": "stream",
     "text": [
      "       Total Rides     %\n",
      "UberX          401  90.3\n",
      "Pool            39   8.8\n",
      "Black            4   0.9\n"
     ]
    },
    {
     "data": {
      "image/png": "[encoded data removed]",
      "text/plain": [
       "<Figure size 432x288 with 1 Axes>"
      ]
     },
     "metadata": {
      "needs_background": "light"
     },
     "output_type": "display_data"
    }
   ],
   "source": [
    "# Creating a series with product types count\n",
    "pt_rides = pd.Series(completed_rides['Product Type'].value_counts().sort_index(ascending=False))\n",
    "# Transforming serie in dataframe\n",
    "df = pd.DataFrame(pt_rides)\n",
    "# Including new column with trips portion\n",
    "df['%'] = (completed_rides['Product Type'].value_counts().sort_index(ascending=False)/completed_rides['Product Type'].size*100).round(1)\n",
    "#Renaming columns labels\n",
    "df.rename(columns={'Product Type':'Total Rides'}, inplace=True)\n",
    "print(df)\n",
    "# Plotting product types count\n",
    "completed_rides['Product Type'].value_counts().plot(kind='bar');"
   ]
  },
  {
   "cell_type": "markdown",
   "id": "ecf9a578",
   "metadata": {},
   "source": [
    "UberX is the preferred product type with a frequency of 90.3%. So I would say that I am the type of user who usually looks for affordable prices.\n",
    "\n",
    "Since not many people travel through Pool or Black they should increase the UberX rides to gain profit. As it is more affordable than others."
   ]
  },
  {
   "cell_type": "markdown",
   "id": "87127b34",
   "metadata": {},
   "source": [
    "##### The fare, distance, amount, and time spent on the ride"
   ]
  },
  {
   "cell_type": "code",
   "execution_count": 34,
   "id": "278cef86",
   "metadata": {},
   "outputs": [
    {
     "name": "stdout",
     "output_type": "stream",
     "text": [
      "Avg. fare: 19.2 BRL\n",
      "Avg. distance: 8.1 km\n",
      "Avg. fare/km: 2.4 BRL/km\n",
      "Avg. time spent on trips: 21.4 minutes\n",
      "\n",
      "Total fare amount: 8532.8 BRL\n",
      "Total distance: 3575.0 km\n",
      "Total time spent on trips: 158.4 hours\n"
     ]
    }
   ],
   "source": [
    "print('Avg. fare:', round(completed_rides['Fare Amount'].mean(),1),'BRL')\n",
    "print('Avg. distance:',round(completed_rides.distance_km.mean(),1),'km')\n",
    "print('Avg. fare/km:',round(completed_rides['Fare Amount'].sum()/completed_rides.distance_km.sum(),1),'BRL/km')\n",
    "print('Avg. time spent on trips:',round(completed_rides.trip_duration.mean(),1),'minutes')\n",
    "print('')\n",
    "print('Total fare amount:', round(completed_rides['Fare Amount'].sum(),1),'BRL')\n",
    "print('Total distance:',round(completed_rides.distance_km.sum(),1),'km')\n",
    "print('Total time spent on trips:',round(completed_rides.trip_duration.sum()/60,1),'hours')"
   ]
  },
  {
   "cell_type": "markdown",
   "id": "17aa2509",
   "metadata": {},
   "source": [
    "Considering the whole trip, the average amount spent on the trip is 19.2 BRL, subtracting approx. 8.1 km. Therefore, if we quickly estimate how much one will spend per year making daily trips we will have: 365 days * two trips * 19.2 BRL / fare = 14,016 BRL / year\n",
    "\n",
    "And on average, Used almost. 2.4 BRL / km and 21.3 minutes per trip."
   ]
  },
  {
   "cell_type": "markdown",
   "id": "a6a03765",
   "metadata": {},
   "source": [
    "Uber can lead offers on rides during festival seasons to attract customers which might take long-distance rides."
   ]
  },
  {
   "cell_type": "markdown",
   "id": "7d947300",
   "metadata": {},
   "source": [
    "##### The days of the week that have the highest number of rides per kilometer"
   ]
  },
  {
   "cell_type": "code",
   "execution_count": 35,
   "id": "73d97dcf",
   "metadata": {},
   "outputs": [
    {
     "data": {
      "text/html": [
       "<div>\n",
       "<style scoped>\n",
       "    .dataframe tbody tr th:only-of-type {\n",
       "        vertical-align: middle;\n",
       "    }\n",
       "\n",
       "    .dataframe tbody tr th {\n",
       "        vertical-align: top;\n",
       "    }\n",
       "\n",
       "    .dataframe thead th {\n",
       "        text-align: right;\n",
       "    }\n",
       "</style>\n",
       "<table border=\"1\" class=\"dataframe\">\n",
       "  <thead>\n",
       "    <tr style=\"text-align: right;\">\n",
       "      <th>weekday</th>\n",
       "      <th>Mon</th>\n",
       "      <th>Tue</th>\n",
       "      <th>Wed</th>\n",
       "      <th>Thu</th>\n",
       "      <th>Fri</th>\n",
       "      <th>Sat</th>\n",
       "      <th>Sun</th>\n",
       "    </tr>\n",
       "    <tr>\n",
       "      <th>year</th>\n",
       "      <th></th>\n",
       "      <th></th>\n",
       "      <th></th>\n",
       "      <th></th>\n",
       "      <th></th>\n",
       "      <th></th>\n",
       "      <th></th>\n",
       "    </tr>\n",
       "  </thead>\n",
       "  <tbody>\n",
       "    <tr>\n",
       "      <th>2016</th>\n",
       "      <td>NaN</td>\n",
       "      <td>NaN</td>\n",
       "      <td>2.8</td>\n",
       "      <td>2.4</td>\n",
       "      <td>NaN</td>\n",
       "      <td>2.1</td>\n",
       "      <td>2.9</td>\n",
       "    </tr>\n",
       "    <tr>\n",
       "      <th>2017</th>\n",
       "      <td>2.8</td>\n",
       "      <td>2.1</td>\n",
       "      <td>2.4</td>\n",
       "      <td>2.2</td>\n",
       "      <td>2.7</td>\n",
       "      <td>2.1</td>\n",
       "      <td>2.7</td>\n",
       "    </tr>\n",
       "    <tr>\n",
       "      <th>2018</th>\n",
       "      <td>2.0</td>\n",
       "      <td>1.9</td>\n",
       "      <td>2.6</td>\n",
       "      <td>2.0</td>\n",
       "      <td>2.2</td>\n",
       "      <td>2.4</td>\n",
       "      <td>2.2</td>\n",
       "    </tr>\n",
       "    <tr>\n",
       "      <th>2019</th>\n",
       "      <td>2.5</td>\n",
       "      <td>2.4</td>\n",
       "      <td>2.1</td>\n",
       "      <td>2.3</td>\n",
       "      <td>3.1</td>\n",
       "      <td>2.3</td>\n",
       "      <td>2.7</td>\n",
       "    </tr>\n",
       "    <tr>\n",
       "      <th>2020</th>\n",
       "      <td>2.7</td>\n",
       "      <td>2.4</td>\n",
       "      <td>2.7</td>\n",
       "      <td>2.6</td>\n",
       "      <td>2.4</td>\n",
       "      <td>3.1</td>\n",
       "      <td>2.8</td>\n",
       "    </tr>\n",
       "    <tr>\n",
       "      <th>2021</th>\n",
       "      <td>NaN</td>\n",
       "      <td>NaN</td>\n",
       "      <td>3.1</td>\n",
       "      <td>NaN</td>\n",
       "      <td>NaN</td>\n",
       "      <td>NaN</td>\n",
       "      <td>3.6</td>\n",
       "    </tr>\n",
       "  </tbody>\n",
       "</table>\n",
       "</div>"
      ],
      "text/plain": [
       "weekday  Mon  Tue  Wed  Thu  Fri  Sat  Sun\n",
       "year                                      \n",
       "2016     NaN  NaN  2.8  2.4  NaN  2.1  2.9\n",
       "2017     2.8  2.1  2.4  2.2  2.7  2.1  2.7\n",
       "2018     2.0  1.9  2.6  2.0  2.2  2.4  2.2\n",
       "2019     2.5  2.4  2.1  2.3  3.1  2.3  2.7\n",
       "2020     2.7  2.4  2.7  2.6  2.4  3.1  2.8\n",
       "2021     NaN  NaN  3.1  NaN  NaN  NaN  3.6"
      ]
     },
     "execution_count": 35,
     "metadata": {},
     "output_type": "execute_result"
    }
   ],
   "source": [
    "#overlapping pivot tables to get weighted average\n",
    "amount_table = completed_rides.pivot_table(values='Fare Amount',aggfunc='sum',columns='weekday', index='year').round(1)\n",
    "column_order = ['Mon','Tue','Wed','Thu','Fri','Sat','Sun']\n",
    "amount_table = amount_table.reindex(column_order, axis=1)\n",
    "distance_table = completed_rides.pivot_table(values='distance_km',aggfunc='sum',columns='weekday', index='year').round(1)\n",
    "distance_table = distance_table.reindex(column_order, axis=1)\n",
    "(amount_table/distance_table).round(1)"
   ]
  },
  {
   "cell_type": "code",
   "execution_count": 36,
   "id": "aa982b2d",
   "metadata": {},
   "outputs": [
    {
     "data": {
      "image/png": "[encoded data removed]",
      "text/plain": [
       "<Figure size 864x288 with 1 Axes>"
      ]
     },
     "metadata": {
      "needs_background": "light"
     },
     "output_type": "display_data"
    }
   ],
   "source": [
    "#creating an auxiliar data frame to be displayed in category plot\n",
    "aux_serie = round((completed_rides.groupby('weekday')['Fare Amount'].sum()/completed_rides.groupby('weekday')['distance_km'].sum()),2)\n",
    "amount_km_df = pd.DataFrame(aux_serie)\n",
    "amount_km_df = amount_km_df.reset_index()\n",
    "amount_km_df.rename(columns={'weekday':'weekday',0:'values'},inplace=True)\n",
    "sns.catplot(x='weekday', y='values', data=amount_km_df, kind='bar', height=4, aspect=3, order=['Mon','Tue','Wed','Thu','Fri','Sat','Sun'],palette='magma');"
   ]
  },
  {
   "cell_type": "markdown",
   "id": "900fcbf4",
   "metadata": {},
   "source": [
    "According to the chart below, we see that Monday, Wednesday, Friday, and Sunday were the most expensive days of the week. Therefore, it allows us to better understand the weekly season, and find the most profitable days for Uber and its drivers.\n",
    "\n",
    "Most of the Uber ride travelers are IT Job workers and Office workers. They prefer traveling through Uber to their offices during weekdays. So, there are not many people willing to travel on weekends due to off days from work."
   ]
  },
  {
   "cell_type": "markdown",
   "id": "a7e030bf",
   "metadata": {},
   "source": [
    "##### The longest / shortest and most expensive / cheapest ride"
   ]
  },
  {
   "cell_type": "code",
   "execution_count": 37,
   "id": "aaf2d136",
   "metadata": {},
   "outputs": [
    {
     "data": {
      "text/html": [
       "<div>\n",
       "<style scoped>\n",
       "    .dataframe tbody tr th:only-of-type {\n",
       "        vertical-align: middle;\n",
       "    }\n",
       "\n",
       "    .dataframe tbody tr th {\n",
       "        vertical-align: top;\n",
       "    }\n",
       "\n",
       "    .dataframe thead th {\n",
       "        text-align: right;\n",
       "    }\n",
       "</style>\n",
       "<table border=\"1\" class=\"dataframe\">\n",
       "  <thead>\n",
       "    <tr style=\"text-align: right;\">\n",
       "      <th></th>\n",
       "      <th>City</th>\n",
       "      <th>Product Type</th>\n",
       "      <th>Trip or Order Status</th>\n",
       "      <th>Request Time</th>\n",
       "      <th>Begin Trip Time</th>\n",
       "      <th>Begin Trip Lat</th>\n",
       "      <th>Begin Trip Lng</th>\n",
       "      <th>Dropoff Time</th>\n",
       "      <th>Dropoff Lat</th>\n",
       "      <th>Dropoff Lng</th>\n",
       "      <th>Distance (miles)</th>\n",
       "      <th>Fare Amount</th>\n",
       "      <th>year</th>\n",
       "      <th>month</th>\n",
       "      <th>weekday</th>\n",
       "      <th>time</th>\n",
       "      <th>distance_km</th>\n",
       "      <th>amount_km</th>\n",
       "      <th>request_lead_time</th>\n",
       "      <th>trip_duration</th>\n",
       "    </tr>\n",
       "  </thead>\n",
       "  <tbody>\n",
       "    <tr>\n",
       "      <th>3</th>\n",
       "      <td>458</td>\n",
       "      <td>UberX</td>\n",
       "      <td>COMPLETED</td>\n",
       "      <td>2020-12-11 23:16:33</td>\n",
       "      <td>2020-12-11 23:27:32</td>\n",
       "      <td>-23.559410</td>\n",
       "      <td>-46.666435</td>\n",
       "      <td>2020-12-12 00:32:47</td>\n",
       "      <td>-23.425755</td>\n",
       "      <td>-46.481190</td>\n",
       "      <td>19.74</td>\n",
       "      <td>58.77</td>\n",
       "      <td>2020</td>\n",
       "      <td>Dec</td>\n",
       "      <td>Fri</td>\n",
       "      <td>23:16</td>\n",
       "      <td>31.77</td>\n",
       "      <td>1.85</td>\n",
       "      <td>11.0</td>\n",
       "      <td>65.2</td>\n",
       "    </tr>\n",
       "    <tr>\n",
       "      <th>305</th>\n",
       "      <td>458</td>\n",
       "      <td>UberX</td>\n",
       "      <td>COMPLETED</td>\n",
       "      <td>2018-04-15 23:18:40</td>\n",
       "      <td>2018-04-15 23:27:42</td>\n",
       "      <td>-23.502636</td>\n",
       "      <td>-46.624952</td>\n",
       "      <td>2018-04-15 23:34:17</td>\n",
       "      <td>-23.503310</td>\n",
       "      <td>-46.636808</td>\n",
       "      <td>0.15</td>\n",
       "      <td>11.27</td>\n",
       "      <td>2018</td>\n",
       "      <td>Apr</td>\n",
       "      <td>Sun</td>\n",
       "      <td>23:18</td>\n",
       "      <td>0.24</td>\n",
       "      <td>46.96</td>\n",
       "      <td>9.0</td>\n",
       "      <td>6.6</td>\n",
       "    </tr>\n",
       "  </tbody>\n",
       "</table>\n",
       "</div>"
      ],
      "text/plain": [
       "     City Product Type Trip or Order Status        Request Time  \\\n",
       "3     458        UberX            COMPLETED 2020-12-11 23:16:33   \n",
       "305   458        UberX            COMPLETED 2018-04-15 23:18:40   \n",
       "\n",
       "        Begin Trip Time  Begin Trip Lat  Begin Trip Lng        Dropoff Time  \\\n",
       "3   2020-12-11 23:27:32      -23.559410      -46.666435 2020-12-12 00:32:47   \n",
       "305 2018-04-15 23:27:42      -23.502636      -46.624952 2018-04-15 23:34:17   \n",
       "\n",
       "     Dropoff Lat  Dropoff Lng  Distance (miles)  Fare Amount  year month  \\\n",
       "3     -23.425755   -46.481190             19.74        58.77  2020   Dec   \n",
       "305   -23.503310   -46.636808              0.15        11.27  2018   Apr   \n",
       "\n",
       "    weekday   time  distance_km  amount_km  request_lead_time  trip_duration  \n",
       "3       Fri  23:16        31.77       1.85               11.0           65.2  \n",
       "305     Sun  23:18         0.24      46.96                9.0            6.6  "
      ]
     },
     "execution_count": 37,
     "metadata": {},
     "output_type": "execute_result"
    }
   ],
   "source": [
    "rides_distance = completed_rides[completed_rides.distance_km==completed_rides.distance_km.max()]\n",
    "rides_distance = rides_distance.append(completed_rides[completed_rides.distance_km==completed_rides.distance_km.min()])\n",
    "rides_distance"
   ]
  },
  {
   "cell_type": "markdown",
   "id": "bc84e4c1",
   "metadata": {},
   "source": [
    "The table below shows the longest record (31.77 km) and the shortest ride (0.24 km)."
   ]
  },
  {
   "cell_type": "code",
   "execution_count": 38,
   "id": "bc4edf77",
   "metadata": {},
   "outputs": [
    {
     "data": {
      "text/html": [
       "<div>\n",
       "<style scoped>\n",
       "    .dataframe tbody tr th:only-of-type {\n",
       "        vertical-align: middle;\n",
       "    }\n",
       "\n",
       "    .dataframe tbody tr th {\n",
       "        vertical-align: top;\n",
       "    }\n",
       "\n",
       "    .dataframe thead th {\n",
       "        text-align: right;\n",
       "    }\n",
       "</style>\n",
       "<table border=\"1\" class=\"dataframe\">\n",
       "  <thead>\n",
       "    <tr style=\"text-align: right;\">\n",
       "      <th></th>\n",
       "      <th>City</th>\n",
       "      <th>Product Type</th>\n",
       "      <th>Trip or Order Status</th>\n",
       "      <th>Request Time</th>\n",
       "      <th>Begin Trip Time</th>\n",
       "      <th>Begin Trip Lat</th>\n",
       "      <th>Begin Trip Lng</th>\n",
       "      <th>Dropoff Time</th>\n",
       "      <th>Dropoff Lat</th>\n",
       "      <th>Dropoff Lng</th>\n",
       "      <th>Distance (miles)</th>\n",
       "      <th>Fare Amount</th>\n",
       "      <th>year</th>\n",
       "      <th>month</th>\n",
       "      <th>weekday</th>\n",
       "      <th>time</th>\n",
       "      <th>distance_km</th>\n",
       "      <th>amount_km</th>\n",
       "      <th>request_lead_time</th>\n",
       "      <th>trip_duration</th>\n",
       "    </tr>\n",
       "  </thead>\n",
       "  <tbody>\n",
       "    <tr>\n",
       "      <th>305</th>\n",
       "      <td>458</td>\n",
       "      <td>UberX</td>\n",
       "      <td>COMPLETED</td>\n",
       "      <td>2018-04-15 23:18:40</td>\n",
       "      <td>2018-04-15 23:27:42</td>\n",
       "      <td>-23.502636</td>\n",
       "      <td>-46.624952</td>\n",
       "      <td>2018-04-15 23:34:17</td>\n",
       "      <td>-23.503310</td>\n",
       "      <td>-46.636808</td>\n",
       "      <td>0.15</td>\n",
       "      <td>11.27</td>\n",
       "      <td>2018</td>\n",
       "      <td>Apr</td>\n",
       "      <td>Sun</td>\n",
       "      <td>23:18</td>\n",
       "      <td>0.24</td>\n",
       "      <td>46.96</td>\n",
       "      <td>9.0</td>\n",
       "      <td>6.6</td>\n",
       "    </tr>\n",
       "    <tr>\n",
       "      <th>87</th>\n",
       "      <td>458</td>\n",
       "      <td>UberX</td>\n",
       "      <td>COMPLETED</td>\n",
       "      <td>2019-11-30 03:34:56</td>\n",
       "      <td>2019-11-30 03:40:37</td>\n",
       "      <td>-23.591813</td>\n",
       "      <td>-46.690720</td>\n",
       "      <td>2019-11-30 03:53:24</td>\n",
       "      <td>-23.559366</td>\n",
       "      <td>-46.666489</td>\n",
       "      <td>3.54</td>\n",
       "      <td>0.00</td>\n",
       "      <td>2019</td>\n",
       "      <td>Nov</td>\n",
       "      <td>Sat</td>\n",
       "      <td>03:34</td>\n",
       "      <td>5.70</td>\n",
       "      <td>0.00</td>\n",
       "      <td>5.7</td>\n",
       "      <td>12.8</td>\n",
       "    </tr>\n",
       "  </tbody>\n",
       "</table>\n",
       "</div>"
      ],
      "text/plain": [
       "     City Product Type Trip or Order Status        Request Time  \\\n",
       "305   458        UberX            COMPLETED 2018-04-15 23:18:40   \n",
       "87    458        UberX            COMPLETED 2019-11-30 03:34:56   \n",
       "\n",
       "        Begin Trip Time  Begin Trip Lat  Begin Trip Lng        Dropoff Time  \\\n",
       "305 2018-04-15 23:27:42      -23.502636      -46.624952 2018-04-15 23:34:17   \n",
       "87  2019-11-30 03:40:37      -23.591813      -46.690720 2019-11-30 03:53:24   \n",
       "\n",
       "     Dropoff Lat  Dropoff Lng  Distance (miles)  Fare Amount  year month  \\\n",
       "305   -23.503310   -46.636808              0.15        11.27  2018   Apr   \n",
       "87    -23.559366   -46.666489              3.54         0.00  2019   Nov   \n",
       "\n",
       "    weekday   time  distance_km  amount_km  request_lead_time  trip_duration  \n",
       "305     Sun  23:18         0.24      46.96                9.0            6.6  \n",
       "87      Sat  03:34         5.70       0.00                5.7           12.8  "
      ]
     },
     "execution_count": 38,
     "metadata": {},
     "output_type": "execute_result"
    }
   ],
   "source": [
    "rides_amount_km = completed_rides[completed_rides.amount_km==completed_rides.amount_km.max()]\n",
    "rides_amount_km = rides_amount_km.append(completed_rides[completed_rides.amount_km==completed_rides.amount_km.min(0)])\n",
    "rides_amount_km"
   ]
  },
  {
   "cell_type": "markdown",
   "id": "977228b7",
   "metadata": {},
   "source": [
    "The full paid mileage price we have: \n",
    "expensive (46.96 BRL / km) and cheap (0 BRL / km). Cheap travel certainly means a free ride, while the cost is 46.96 BRL. This result is driven by a constant low cost at the most demanding times, as the total distance was only 0.24km.\n",
    "\n",
    "Short-distance Uber rides are quite cheap, compared to long-distance. Uber can fix some amount per kilometer can set minimum limit for traveling in Uber."
   ]
  },
  {
   "cell_type": "markdown",
   "id": "8ffa4893",
   "metadata": {},
   "source": [
    "##### The average lead time before requesting a trip"
   ]
  },
  {
   "cell_type": "code",
   "execution_count": 39,
   "id": "51cbc89b",
   "metadata": {
    "scrolled": false
   },
   "outputs": [
    {
     "name": "stdout",
     "output_type": "stream",
     "text": [
      "4.9 minutes\n"
     ]
    }
   ],
   "source": [
    "print(round(completed_rides.request_lead_time.mean(),1),'minutes')"
   ]
  },
  {
   "cell_type": "markdown",
   "id": "e889c524",
   "metadata": {},
   "source": [
    "## Conclusion"
   ]
  },
  {
   "cell_type": "markdown",
   "id": "f15f94b0",
   "metadata": {},
   "source": [
    "After analyzing the various parameters, here are a few guidelines that we can conclude. If you were a Business analyst or data scientist working for Uber or Lyft, you could come to the following conclusions:\n",
    "\n",
    "Uber is very economical; however, Lyft also offers fair competition.\n",
    "People prefer to have a shared ride in the middle of the night.\n",
    "People avoid riding when it rains.\n",
    "When traveling long distances, the price does not increase by line. However, based on time and demand, increases can affect costs.\n",
    "Uber could be the first choice for long distances.\n",
    "\n",
    "However, obtaining and analyzing the same data is the point of several companies. There are many businesses in the market that can help bring data from many sources and in various ways to your favorite data storage."
   ]
  }
 ],
 "metadata": {
  "kernelspec": {
   "display_name": "Python 3 (ipykernel)",
   "language": "python",
   "name": "python3"
  },
  "language_info": {
   "codemirror_mode": {
    "name": "ipython",
    "version": 3
   },
   "file_extension": ".py",
   "mimetype": "text/x-python",
   "name": "python",
   "nbconvert_exporter": "python",
   "pygments_lexer": "ipython3",
   "version": "3.8.3"
  }
 },
 "nbformat": 4,
 "nbformat_minor": 5
}
